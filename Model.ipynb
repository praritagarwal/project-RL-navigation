{
 "cells": [
  {
   "cell_type": "code",
   "execution_count": 1,
   "metadata": {},
   "outputs": [],
   "source": [
    "import torch\n",
    "import torch.nn as nn\n",
    "import torch.nn.functional as F"
   ]
  },
  {
   "cell_type": "code",
   "execution_count": 3,
   "metadata": {},
   "outputs": [],
   "source": [
    "class QNetwork(nn.Module):\n",
    "    \"\"\"Actor (Policy) Model.\"\"\"\n",
    "\n",
    "    def __init__(self, state_size, action_size, seed, hidden_size = 100):\n",
    "        \"\"\"Initialize parameters and build model.\n",
    "        Params\n",
    "        ======\n",
    "            state_size (int): Dimension of each state\n",
    "            action_size (int): Dimension of each action\n",
    "            seed (int): Random seed\n",
    "        \"\"\"\n",
    "        super(QNetwork, self).__init__()\n",
    "        self.seed = torch.manual_seed(seed)\n",
    "        \"*** YOUR CODE HERE ***\"\n",
    "        \n",
    "        self.state_size = state_size\n",
    "        self.drop_prob = 0.1\n",
    "        self.action_size = action_size\n",
    "        self.hidden_size = hidden_size\n",
    "        \n",
    "        torch.manual_seed(seed)\n",
    "        self.l1 = nn.Linear(in_features = self.state_size, out_features = hidden_size, bias = True)\n",
    "        # self.batch1 = nn.BatchNorm1d(num_features = 50)\n",
    "        self.l2 = nn.Linear(in_features = hidden_size, out_features = hidden_size//2, bias = True)\n",
    "        # self.batch2 = nn.BatchNorm1d(num_features = 50)\n",
    "        self.l3 = nn.Linear(in_features = hidden_size//2, out_features = hidden_size//4, bias = True)\n",
    "        # self.batch3 = nn.BatchNorm1d(num_features = 50)\n",
    "        self.l4 = nn.Linear(in_features = hidden_size//4, out_features = action_size, bias = True)\n",
    "        self.dropout = nn.Dropout(p = self.drop_prob)\n",
    "        \n",
    "    def forward(self, state):\n",
    "        \"\"\"Build a network that maps state -> action values.\"\"\"\n",
    "        \n",
    "        x = F.selu(self.l1(state))\n",
    "        # x = self.dropout(x)\n",
    "        x = F.selu(self.l2(x))\n",
    "        # x = self.dropout(x)\n",
    "        x = F.selu(self.l3(x))\n",
    "        # x = self.dropout(x)\n",
    "        x = self.l4(x)\n",
    "        \n",
    "        return x "
   ]
  }
 ],
 "metadata": {
  "kernelspec": {
   "display_name": "Python [conda env:drlnd]",
   "language": "python",
   "name": "conda-env-drlnd-py"
  },
  "language_info": {
   "codemirror_mode": {
    "name": "ipython",
    "version": 3
   },
   "file_extension": ".py",
   "mimetype": "text/x-python",
   "name": "python",
   "nbconvert_exporter": "python",
   "pygments_lexer": "ipython3",
   "version": "3.6.10"
  }
 },
 "nbformat": 4,
 "nbformat_minor": 4
}
